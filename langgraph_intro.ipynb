{
 "cells": [
  {
   "cell_type": "code",
   "execution_count": null,
   "id": "02e1519b",
   "metadata": {},
   "outputs": [],
   "source": [
    "graph()\n",
    "state\n",
    "edges\n",
    "nodes\n",
    "invoke\n",
    "stategraph()"
   ]
  },
  {
   "cell_type": "code",
   "execution_count": null,
   "id": "1fe25254",
   "metadata": {},
   "outputs": [
    {
     "name": "stdout",
     "output_type": "stream",
     "text": [
      "{'input': 'Hi Anuj', 'output1': 'Hi Anuj from function1', 'output2': 'Hi Anuj from function1 and then function2'}\n"
     ]
    }
   ],
   "source": [
    "from typing import TypedDict\n",
    "from langgraph.graph import StateGraph\n",
    "\n",
    "class MyState(TypedDict, total=False):\n",
    "    input: str\n",
    "    output1: str\n",
    "    output2: str\n",
    "\n",
    "def function1(state: MyState) -> dict:\n",
    "    return {\"output1\": state[\"input\"] + \" from function1\"}\n",
    "\n",
    "def function2(state: MyState) -> dict:\n",
    "    return {\"output2\": state[\"output1\"] + \" and then function2\"}\n",
    "\n",
    "workflow = StateGraph(MyState)\n",
    "workflow.add_node(\"function1\", function1)\n",
    "workflow.add_node(\"function2\", function2)\n",
    "workflow.add_edge(\"function1\", \"function2\")\n",
    "workflow.set_entry_point(\"function1\")\n",
    "workflow.set_finish_point(\"function2\")\n",
    "app = workflow.compile()\n",
    "\n",
    "result = app.invoke({\"input\": \"Hi Anuj\"})\n",
    "print(result)"
   ]
  },
  {
   "cell_type": "code",
   "execution_count": 99,
   "id": "15730e0a",
   "metadata": {},
   "outputs": [
    {
     "data": {
      "image/png": "[encoded data removed]",
      "text/plain": [
       "<IPython.core.display.Image object>"
      ]
     },
     "metadata": {},
     "output_type": "display_data"
    }
   ],
   "source": [
    "display(Image(app.get_graph().draw_mermaid_png()))"
   ]
  },
  {
   "cell_type": "code",
   "execution_count": 101,
   "id": "131ac2b8",
   "metadata": {},
   "outputs": [
    {
     "name": "stdout",
     "output_type": "stream",
     "text": [
      "Here is the output from function1\n",
      "___________________________\n",
      "{'output1': 'Hi Anuj from function1'}\n",
      "\n",
      "\n",
      "Here is the output from function2\n",
      "___________________________\n",
      "{'output2': 'Hi Anuj from function1 and then function2'}\n",
      "\n",
      "\n"
     ]
    }
   ],
   "source": [
    "for output in app.stream({\"input\": \"Hi Anuj\"}):\n",
    "    for key,value in output.items():\n",
    "        print(f\"Here is the output from {key}\")\n",
    "        print(\"___________________________\")\n",
    "        print(value)\n",
    "        print(\"\\n\")"
   ]
  },
  {
   "cell_type": "code",
   "execution_count": 105,
   "id": "3d1ab1cb",
   "metadata": {},
   "outputs": [],
   "source": [
    "from langchain_google_genai import ChatGoogleGenerativeAI\n",
    "model=ChatGoogleGenerativeAI(model='gemini-1.5-flash')"
   ]
  },
  {
   "cell_type": "code",
   "execution_count": 106,
   "id": "277aae94",
   "metadata": {},
   "outputs": [
    {
     "data": {
      "text/plain": [
       "'Hi there! How can I help you today?'"
      ]
     },
     "execution_count": 106,
     "metadata": {},
     "output_type": "execute_result"
    }
   ],
   "source": [
    "model.invoke(\"hi\").content"
   ]
  },
  {
   "cell_type": "code",
   "execution_count": 130,
   "id": "5fc5d4c6",
   "metadata": {},
   "outputs": [],
   "source": [
    "# State schema\n",
    "class MyState(TypedDict, total=False):\n",
    "    input: str\n",
    "    output: str\n",
    "    token_count: str"
   ]
  },
  {
   "cell_type": "code",
   "execution_count": 131,
   "id": "5faed10e",
   "metadata": {},
   "outputs": [],
   "source": [
    "# LLM node\n",
    "def llm(state: MyState) -> dict:\n",
    "    model = ChatGoogleGenerativeAI(model='gemini-1.5-flash')\n",
    "    question = state[\"input\"]\n",
    "    output = model.invoke(question)\n",
    "    return {\"output\": output.content}\n",
    "\n",
    "# Token counter node\n",
    "def token_counter(state: MyState) -> dict:\n",
    "    tokens = state[\"output\"].split()\n",
    "    token_number = len(tokens)\n",
    "    return {\"token_count\": f\"Total token number in the generated answer is {token_number}\"}\n"
   ]
  },
  {
   "cell_type": "code",
   "execution_count": 132,
   "id": "895999b1",
   "metadata": {},
   "outputs": [
    {
     "data": {
      "image/png": "[encoded data removed]",
      "text/plain": [
       "<IPython.core.display.Image object>"
      ]
     },
     "metadata": {},
     "output_type": "display_data"
    }
   ],
   "source": [
    "# Build graph\n",
    "workflow2 = StateGraph(MyState)\n",
    "workflow2.add_node(\"My_LLM\", llm)\n",
    "workflow2.add_node(\"LLM_Output_Token_Counter\", token_counter)\n",
    "workflow2.add_edge(\"My_LLM\", \"LLM_Output_Token_Counter\")\n",
    "workflow2.set_entry_point(\"My_LLM\")\n",
    "workflow2.set_finish_point(\"LLM_Output_Token_Counter\")\n",
    "display(Image(app.get_graph().draw_mermaid_png()))"
   ]
  },
  {
   "cell_type": "code",
   "execution_count": 133,
   "id": "2373ce88",
   "metadata": {},
   "outputs": [
    {
     "name": "stdout",
     "output_type": "stream",
     "text": [
      "{'input': 'What is the capital of India?', 'output': 'The capital of India is **New Delhi**.', 'token_count': 'Total token number in the generated answer is 7'}\n"
     ]
    }
   ],
   "source": [
    "# Compile and run\n",
    "app = workflow2.compile()\n",
    "result = app.invoke({\"input\": \"What is the capital of India?\"})\n",
    "print(result)"
   ]
  },
  {
   "cell_type": "code",
   "execution_count": 135,
   "id": "3d0e57b5",
   "metadata": {},
   "outputs": [
    {
     "name": "stdout",
     "output_type": "stream",
     "text": [
      "here is output from My_LLM\n",
      "_______\n",
      "{'output': \"Tata Enterprises is not a single entity but a massive conglomerate, officially known as the Tata Group.  Understanding it requires looking at its structure, history, key businesses, philosophy, and impact.\\n\\n**I. History and Structure:**\\n\\nThe Tata Group's origins trace back to 1868 when Jamsetji Tata founded the Tata & Sons trading company in Bombay (now Mumbai), India.  From humble beginnings in textiles, it diversified aggressively over the decades, driven by a vision of nation-building and social responsibility.  The group's structure is unique:\\n\\n* **Holding Company:** Tata Sons is the principal investment holding company, owning stakes in various Tata operating companies.  It's not a publicly traded company; its ownership is complex, with trusts playing a significant role in ensuring long-term strategic direction and preventing short-term profit-maximizing decisions.\\n* **Operating Companies:**  The group comprises numerous independent operating companies, each specializing in different sectors. These operate autonomously but benefit from the group's brand reputation, shared resources, and overall strategic guidance.\\n* **Trusts:**  A network of philanthropic trusts, primarily the Sir Dorabji Tata Trust and Sir Ratan Tata Trust, own substantial shares in Tata Sons.  These trusts play a crucial role in guiding the group's social responsibility initiatives and ensuring its long-term sustainability.  This unique structure balances profit generation with a commitment to societal good.\\n\\n**II. Key Businesses and Sectors:**\\n\\nThe Tata Group's portfolio spans a vast range of sectors, making it a truly diversified conglomerate.  Some of its most significant businesses include:\\n\\n* **Automotive:** Tata Motors (including Jaguar Land Rover), a major player in the global automotive industry, is a flagship company.\\n* **Steel:** Tata Steel is one of the world's leading steel producers, with operations across multiple countries.\\n* **IT Services:** Tata Consultancy Services (TCS) is a global leader in information technology services and consulting.\\n* **Consumer Goods:**  Tata Consumer Products offers a wide range of food and beverage products.\\n* **Chemicals:** Tata Chemicals is a significant player in the chemical industry.\\n* **Power:** Tata Power is involved in power generation and distribution.\\n* **Telecommunications:** Tata Teleservices (though significantly scaled down in recent years) has a presence in the telecom sector.\\n* **Hospitality:**  Indian Hotels Company Limited (IHCL), owner of the Taj Hotels brand, is a leading player in the hospitality industry.\\n* **Aerospace & Defence:**  Tata Advanced Systems is venturing into aerospace and defence manufacturing.\\n\\n\\n**III. Philosophy and Values:**\\n\\nThe Tata Group is renowned for its commitment to:\\n\\n* **Nation-building:**  From its inception, the group has actively contributed to India's economic development and infrastructure.\\n* **Social responsibility:**  The group's philanthropic activities are extensive, encompassing education, healthcare, rural development, and environmental sustainability.  This commitment is deeply ingrained in its culture.\\n* **Long-term vision:**  The group prioritizes long-term sustainability over short-term profits, a philosophy reflected in its governance structure and investment strategies.\\n* **Ethical conduct:**  The group emphasizes ethical business practices and corporate governance.\\n\\n**IV. Global Presence:**\\n\\nWhile rooted in India, the Tata Group has a significant global presence, with operations and investments in numerous countries across the Americas, Europe, Asia, and Africa.  This global reach reflects its ambition and competitive strength.\\n\\n**V. Challenges and Future Outlook:**\\n\\nDespite its size and success, the Tata Group faces challenges:\\n\\n* **Competition:**  Intense competition in various sectors requires continuous innovation and adaptation.\\n* **Global economic uncertainty:**  Economic downturns and geopolitical events can impact its global operations.\\n* **Succession planning:**  Ensuring smooth leadership transitions within the group is crucial for maintaining its trajectory.\\n* **Technological disruption:**  Adapting to rapidly evolving technologies in various sectors is essential for remaining competitive.\\n\\nThe future of the Tata Group likely involves further diversification, strategic acquisitions, and a continued focus on sustainability and innovation.  Its commitment to its core values and its strong brand reputation position it well for navigating future challenges and maintaining its leadership position in several key industries.\"}\n",
      "\n",
      "\n",
      "here is output from LLM_Output_Token_Counter\n",
      "_______\n",
      "{'token_count': 'Total token number in the generated answer is 629'}\n",
      "\n",
      "\n"
     ]
    }
   ],
   "source": [
    "for output in app.stream({\"input\": \"tell me about the tata enterpirse in very detail.\"}):\n",
    "    for key,value in output.items():\n",
    "        print(f\"here is output from {key}\")\n",
    "        print(\"_______\")\n",
    "        print(value)\n",
    "        print(\"\\n\")"
   ]
  },
  {
   "cell_type": "code",
   "execution_count": null,
   "id": "fef993cb",
   "metadata": {},
   "outputs": [],
   "source": []
  },
  {
   "cell_type": "code",
   "execution_count": null,
   "id": "3d62c4e7",
   "metadata": {},
   "outputs": [],
   "source": []
  },
  {
   "cell_type": "code",
   "execution_count": null,
   "id": "50c326e9",
   "metadata": {},
   "outputs": [],
   "source": []
  }
 ],
 "metadata": {
  "kernelspec": {
   "display_name": "agentic_2_base",
   "language": "python",
   "name": "python3"
  },
  "language_info": {
   "codemirror_mode": {
    "name": "ipython",
    "version": 3
   },
   "file_extension": ".py",
   "mimetype": "text/x-python",
   "name": "python",
   "nbconvert_exporter": "python",
   "pygments_lexer": "ipython3",
   "version": "3.11.13"
  }
 },
 "nbformat": 4,
 "nbformat_minor": 5
}
