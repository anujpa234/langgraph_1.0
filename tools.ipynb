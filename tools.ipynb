{
 "cells": [
  {
   "cell_type": "code",
   "execution_count": 1,
   "id": "5657c6c0",
   "metadata": {},
   "outputs": [],
   "source": [
    "from langchain_community.tools import WikipediaQueryRun"
   ]
  },
  {
   "cell_type": "code",
   "execution_count": 3,
   "id": "d9172f61",
   "metadata": {},
   "outputs": [
    {
     "data": {
      "text/plain": [
       "True"
      ]
     },
     "execution_count": 3,
     "metadata": {},
     "output_type": "execute_result"
    }
   ],
   "source": [
    "import os\n",
    "from dotenv import load_dotenv\n",
    "load_dotenv()"
   ]
  },
  {
   "cell_type": "code",
   "execution_count": 2,
   "id": "2b5695df",
   "metadata": {},
   "outputs": [],
   "source": [
    "from langchain_community.utilities import WikipediaAPIWrapper"
   ]
  },
  {
   "cell_type": "code",
   "execution_count": 3,
   "id": "1faf719d",
   "metadata": {},
   "outputs": [],
   "source": [
    "api_wrapper=WikipediaAPIWrapper(top_k_results=5,doc_content_chars_max=500)"
   ]
  },
  {
   "cell_type": "code",
   "execution_count": 4,
   "id": "513e38ba",
   "metadata": {},
   "outputs": [],
   "source": [
    "wiki_tool=WikipediaQueryRun(\n",
    "    api_wrapper=api_wrapper\n",
    ")"
   ]
  },
  {
   "cell_type": "code",
   "execution_count": 5,
   "id": "7a9713a6",
   "metadata": {},
   "outputs": [
    {
     "data": {
      "text/plain": [
       "'A wrapper around Wikipedia. Useful for when you need to answer general questions about people, places, companies, facts, historical events, or other subjects. Input should be a search query.'"
      ]
     },
     "execution_count": 5,
     "metadata": {},
     "output_type": "execute_result"
    }
   ],
   "source": [
    "# to see the tool description\n",
    "wiki_tool.description"
   ]
  },
  {
   "cell_type": "code",
   "execution_count": 6,
   "id": "39a03d5a",
   "metadata": {},
   "outputs": [
    {
     "data": {
      "text/plain": [
       "{'query': {'description': 'query to look up on wikipedia',\n",
       "  'title': 'Query',\n",
       "  'type': 'string'}}"
      ]
     },
     "execution_count": 6,
     "metadata": {},
     "output_type": "execute_result"
    }
   ],
   "source": [
    "# to see all args for tools\n",
    "wiki_tool.args"
   ]
  },
  {
   "cell_type": "code",
   "execution_count": null,
   "id": "75b60a5d",
   "metadata": {},
   "outputs": [
    {
     "data": {
      "text/plain": [
       "\"Page: Elon Musk\\nSummary: Elon Reeve Musk  ( EE-lon; born June 28, 1971) is a businessman. He is known for his leadership of Tesla, SpaceX, X (formerly Twitter), and the Department of Government Efficiency (DOGE). Musk has been considered the wealthiest person in the world since 2021; as of May 2025, Forbes estimates his net worth to be US$424.7 billion. \\nBorn to a wealthy family in Pretoria, South Africa, Musk emigrated in 1989 to Canada. He received bachelor's degrees from the University of Pen\""
      ]
     },
     "execution_count": 7,
     "metadata": {},
     "output_type": "execute_result"
    }
   ],
   "source": [
    "# to search the content from wikipedia\n",
    "wiki_tool.run(\n",
    "    {\n",
    "        \"query\":\"elon musk\"\n",
    "    }\n",
    ")"
   ]
  },
  {
   "cell_type": "code",
   "execution_count": 8,
   "id": "a1d44127",
   "metadata": {},
   "outputs": [
    {
     "name": "stderr",
     "output_type": "stream",
     "text": [
      "/opt/miniconda3/envs/agentic_2_base/lib/python3.11/site-packages/wikipedia/wikipedia.py:389: GuessedAtParserWarning: No parser was explicitly specified, so I'm using the best available HTML parser for this system (\"html.parser\"). This usually isn't a problem, but if you run this code on another system, or in a different virtual environment, it may use a different parser and behave differently.\n",
      "\n",
      "The code that caused this warning is on line 389 of the file /opt/miniconda3/envs/agentic_2_base/lib/python3.11/site-packages/wikipedia/wikipedia.py. To get rid of this warning, pass the additional argument 'features=\"html.parser\"' to the BeautifulSoup constructor.\n",
      "\n",
      "  lis = BeautifulSoup(html).find_all('li')\n"
     ]
    },
    {
     "data": {
      "text/plain": [
       "\"Page: Royal Challengers Bengaluru\\nSummary: Royal Challengers Bengaluru, formerly Royal Challengers Bangalore, also known as RCB, are a professional Twenty20 cricket team based in Bengaluru, Karnataka, that competes in the Indian Premier League (IPL). Founded in 2008 by United Spirits, the team's home ground is M. Chinnaswamy Stadium. They won their first title in 2025. The team finished as the runners-up on three occasions: in 2009, 2011, and 2016. They have also qualified for the playoffs in te\""
      ]
     },
     "execution_count": 8,
     "metadata": {},
     "output_type": "execute_result"
    }
   ],
   "source": [
    "wiki_tool.run({\"query\":\"RCB\"})"
   ]
  },
  {
   "cell_type": "markdown",
   "id": "56e8c94f",
   "metadata": {},
   "source": [
    "#### Youtube Tool"
   ]
  },
  {
   "cell_type": "code",
   "execution_count": 2,
   "id": "dacfb074",
   "metadata": {},
   "outputs": [],
   "source": [
    "from langchain_community.tools import YouTubeSearchTool\n",
    "ytool=YouTubeSearchTool()"
   ]
  },
  {
   "cell_type": "code",
   "execution_count": 3,
   "id": "a2431999",
   "metadata": {},
   "outputs": [
    {
     "data": {
      "text/plain": [
       "'youtube_search'"
      ]
     },
     "execution_count": 3,
     "metadata": {},
     "output_type": "execute_result"
    }
   ],
   "source": [
    "ytool.name"
   ]
  },
  {
   "cell_type": "code",
   "execution_count": 4,
   "id": "8939207b",
   "metadata": {},
   "outputs": [
    {
     "data": {
      "text/plain": [
       "'search for youtube videos associated with a person. the input to this tool should be a comma separated list, the first part contains a person name and the second a number that is the maximum number of video results to return aka num_results. the second part is optional'"
      ]
     },
     "execution_count": 4,
     "metadata": {},
     "output_type": "execute_result"
    }
   ],
   "source": [
    "ytool.description"
   ]
  },
  {
   "cell_type": "code",
   "execution_count": 7,
   "id": "cdcaef40",
   "metadata": {},
   "outputs": [
    {
     "data": {
      "text/plain": [
       "\"['https://www.youtube.com/watch?v=TYEqenKrbaM&pp=ygUKa3Jpc2ggbmFpaw%3D%3D', 'https://www.youtube.com/watch?v=JxgmHe2NyeY&pp=ygUKa3Jpc2ggbmFpaw%3D%3D']\""
      ]
     },
     "execution_count": 7,
     "metadata": {},
     "output_type": "execute_result"
    }
   ],
   "source": [
    "ytool.run(\"krish naik\")"
   ]
  },
  {
   "cell_type": "code",
   "execution_count": 1,
   "id": "7570f83f",
   "metadata": {},
   "outputs": [],
   "source": [
    "from langchain_community.tools.tavily_search import TavilySearchResults"
   ]
  },
  {
   "cell_type": "code",
   "execution_count": 4,
   "id": "999f90a9",
   "metadata": {},
   "outputs": [],
   "source": [
    "os.environ[\"TAVILY_API_KEY\"]=os.getenv(\"TAVILY_API_KEY\")"
   ]
  },
  {
   "cell_type": "code",
   "execution_count": 5,
   "id": "635ad56e",
   "metadata": {},
   "outputs": [],
   "source": [
    "tools=TavilySearchResults()"
   ]
  },
  {
   "cell_type": "code",
   "execution_count": 6,
   "id": "fd902653",
   "metadata": {},
   "outputs": [
    {
     "data": {
      "text/plain": [
       "[{'title': 'Multiple deaths and injuries after hundreds of thousands gather to ...',\n",
       "  'url': 'https://www.nytimes.com/athletic/6402991/2025/06/04/rcb-ipl-celebrations-deaths/',\n",
       "  'content': 'June 4, 2025 Updated June 5, 2025\\n\\n  \\n\\nOfficials have confirmed 11 people died and several more have been injured amid celebrations in Bengaluru, India after Royal Challengers Bengaluru (RCB) won the Indian Premier League (IPL) cricket title on Tuesday.\\n\\nGovernment and Indian cricket officials have cited overcrowding as the reason for the scenes outside M. Chinnaswamy Stadium in Bengaluru, which has a capacity of 40,000.\\n\\nAdvertisement [...] The final itself took place in the city of Ahmedabad, more than 1000 miles to the north west of Bengaluru, but organised celebrations had been planned at RCB’s stadium and near Vidhana Soudha, a state government building. Between “200,000 and 300,000 people” arrived at the stadium, according to Siddaramaiah, chief minister of the Indian state of Karnataka, where Bengaluru is located. [...] Image 3: Fans throng outside the M. Chinnaswamy Stadium in Bengaluru on June 4, 2025, to celebrate a day after Royal Challengers Bengaluru&#039;s victory at the Indian Premier League (IPL) Twenty20 final cricket match. At least 11 people were killed in a stampede on June 4, as a tightly packed crowd celebrated the victory of their home cricket team in the Indian city of Bengaluru, the state&#039;s chief minister said. (Photo by AFP) (Photo by -/AFP via Getty Images)\\n\\nBy Sam Joseph',\n",
       "  'score': 0.7625837},\n",
       " {'title': \"RCB's IPL 2025 trophy parade takes tragic turn as stampede claims ...\",\n",
       "  'url': 'https://www.olympics.com/en/news/royal-challengers-bengaluru-ipl-2025-trophy-parade-stampede',\n",
       "  'content': \"However, the festivities soon turned into tragedy as the police stationed at the venue struggled to control the huge crowd, resulting in a stampede.\\n\\nIn the aftermath of the tragic incident, RCB released a statement, urging supporters to be safe and amending their celebration program. [...] By Andre Pitts 04 June 2025 17:27 GMT+0 2 min read\\n\\nRoyal Challengers Bengaluru's celebrations to mark their IPL 2025 triumph took a tragic turn on Wednesday as 11 people lost their lives and over 30 were left injured in a stampede during the trophy parade outside the M Chinnaswamy Stadium.\\n\\nLakhs of people converged at the M Chinnaswamy Stadium to celebrate RCB’s first-ever Indian Premier League triumph. [...] Triumph turns to tragedy as stampede claims lives during RCB’s IPL 2025 victory parade in Bengaluru\\n===================================================================================================\\n\\nOver 30 were left injured, while 11 died after chaos erupted outside the M Chinnaswamy Stadium. Sachin Tendulkar expressed his condolences to the victims and their families.\\n\\nImage 2: Fans of the Royal Challengers Bengaluru (RCB) jump over barricades\\n\\nPicture by Getty Images\",\n",
       "  'score': 0.74785584},\n",
       " {'title': \"How did celebration of RCB's historic win in IPL spiral into chaos ...\",\n",
       "  'url': 'https://www.thehindu.com/news/national/karnataka/how-did-celebration-of-rcbs-historic-win-in-ipl-spiral-into-chaos-and-crisis-explained/article69668074.ece',\n",
       "  'content': 'A stampede during RCB’s victory celebrations in Bengaluru on June 4 claimed 11 lives and left several others with injuries, turning a moment of triumph into tragedy. Facing a backlash for mismanagement and hurried planning, the Congress government in Karnataka suspended top police officials [...] A senior officer told _The Hindu_ that police resources were thinly spread across four major events on the same day: RCB’s arrival at HAL airport, their transfer to the team hotel on Race Course Road, the government’s felicitation at Vidhana Soudha, and finally, the celebration at Chinnaswamy stadium. [...] Published - June 07, 2025 04:45 pm IST\\n\\nImage 11: Darshan Devaiah B P \\n\\nDarshan Devaiah B.P.\\n\\n    Copy link \\n   Email\\n    Facebook \\n    Twitter \\n    Telegram \\n    LinkedIn \\n    WhatsApp \\n    Reddit \\n\\n0\\n\\nREAD LATER\\n\\n Remove SEE ALL\\n\\nPRINT\\n\\nImage 12: Footwear left behind by fans of Royal Challenge Bengaluru (RCB) after a stampede at the victory celebrations, in Bengaluru on June 5, 2025.',\n",
       "  'score': 0.74652773},\n",
       " {'title': \"Deaths and injuries to fans mar RCB's homecoming in Bengaluru\",\n",
       "  'url': 'https://www.espncricinfo.com/story/rcb-s-felicitation-in-bengaluru-after-winning-ipl-2025-marred-by-deaths-and-injuries-to-fans-1489074',\n",
       "  'content': 'Several police personnel engaged to manage crowds on Wednesday afternoon were seen carrying fans - some of them minors - to hospital amid rain and heavy traffic that had come to a grinding halt, even as RCB\\'s victorious squad held the trophy aloft as celebrations continued in front of at least 25,000 fans who had made it inside the Chinnaswamy Stadium. [...] ESPNcricinfo understands the chaos outside the venue prompted state police to issue a directive to the franchise, urging them to keep the celebrations brief. A planned victory lap around the ground was also curtailed as the players exited the venue quickly.\\n\\n> A family member of one of those injured described the scenes as \"complete mismanagement\" by local authorities. At least four fans were brought in unconscious from the nearby Cubbon Park Metro Station. [...] \"People entered through the gates, and broke them. A stampede took place; no one expected such a huge crowd. Capacity of the stadium is only 35,000, but two-three lakh people have come to participate in the celebration. I\\'m not denying or saying nothing happened, that\\'s why I\\'ve ordered an enquiry. The pain of this tragedy has also erased the joy of victory.\"',\n",
       "  'score': 0.7128128},\n",
       " {'title': 'Indian state blames RCB cricket team for deadly IPL stampede',\n",
       "  'url': 'https://www.aljazeera.com/sports/2025/7/18/indian-state-blames-cricket-team-for-deadly-stampede',\n",
       "  'content': '### All to know about Manny Pacquiao’s boxing comeback against Mario Barrios\\n\\nEleven fans were crushed to death and more than 50 wounded in a stampede near the M Chinnaswamy Stadium after hundreds of thousands packed the streets in the southern city of Bengaluru on June 4, to cheer their hero Virat Kohli and other RCB team members.\\n\\nThe report said organisers had not submitted a “formal request” or provided enough detail for permission to be granted for the celebrations. [...] # Indian state blames RCB cricket team for deadly IPL stampede\\n\\nKarnataka state authorities singled out RCB, its partners and the state cricket for their mismanagement of stampede.\\n\\nState authorities have blamed the management of India’s Royal Challengers Bengaluru cricket team for last month’s deadly stampede during celebrations for their first Indian Premier League (IPL) title. [...] “Consequently, the permission was not granted,” it said.\\n\\nThe team went ahead with its victory parade despite police rejecting RCB’s request, according to the report.\\n\\nThe RCB did not offer any comment on the report.\\n\\nAn ambulance moves following a stampede outside a cricket stadium in Bengaluru, India, June 4',\n",
       "  'score': 0.59880555}]"
      ]
     },
     "execution_count": 6,
     "metadata": {},
     "output_type": "execute_result"
    }
   ],
   "source": [
    "tools.invoke(\"what happened with RCB post celebration?\")"
   ]
  },
  {
   "cell_type": "code",
   "execution_count": null,
   "id": "47918c64",
   "metadata": {},
   "outputs": [],
   "source": []
  }
 ],
 "metadata": {
  "kernelspec": {
   "display_name": "agentic_2_base",
   "language": "python",
   "name": "python3"
  },
  "language_info": {
   "codemirror_mode": {
    "name": "ipython",
    "version": 3
   },
   "file_extension": ".py",
   "mimetype": "text/x-python",
   "name": "python",
   "nbconvert_exporter": "python",
   "pygments_lexer": "ipython3",
   "version": "3.11.13"
  }
 },
 "nbformat": 4,
 "nbformat_minor": 5
}
