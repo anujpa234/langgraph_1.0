{
 "cells": [
  {
   "cell_type": "code",
   "execution_count": 1,
   "id": "5657c6c0",
   "metadata": {},
   "outputs": [],
   "source": [
    "from langchain_community.tools import WikipediaQueryRun"
   ]
  },
  {
   "cell_type": "code",
   "execution_count": 3,
   "id": "d9172f61",
   "metadata": {},
   "outputs": [
    {
     "data": {
      "text/plain": [
       "True"
      ]
     },
     "execution_count": 3,
     "metadata": {},
     "output_type": "execute_result"
    }
   ],
   "source": [
    "import os\n",
    "from dotenv import load_dotenv\n",
    "load_dotenv()"
   ]
  },
  {
   "cell_type": "code",
   "execution_count": 2,
   "id": "2b5695df",
   "metadata": {},
   "outputs": [],
   "source": [
    "from langchain_community.utilities import WikipediaAPIWrapper"
   ]
  },
  {
   "cell_type": "code",
   "execution_count": 3,
   "id": "1faf719d",
   "metadata": {},
   "outputs": [],
   "source": [
    "api_wrapper=WikipediaAPIWrapper(top_k_results=5,doc_content_chars_max=500)"
   ]
  },
  {
   "cell_type": "code",
   "execution_count": 4,
   "id": "513e38ba",
   "metadata": {},
   "outputs": [],
   "source": [
    "wiki_tool=WikipediaQueryRun(\n",
    "    api_wrapper=api_wrapper\n",
    ")"
   ]
  },
  {
   "cell_type": "code",
   "execution_count": 5,
   "id": "7a9713a6",
   "metadata": {},
   "outputs": [
    {
     "data": {
      "text/plain": [
       "'A wrapper around Wikipedia. Useful for when you need to answer general questions about people, places, companies, facts, historical events, or other subjects. Input should be a search query.'"
      ]
     },
     "execution_count": 5,
     "metadata": {},
     "output_type": "execute_result"
    }
   ],
   "source": [
    "# to see the tool description\n",
    "wiki_tool.description"
   ]
  },
  {
   "cell_type": "code",
   "execution_count": 6,
   "id": "39a03d5a",
   "metadata": {},
   "outputs": [
    {
     "data": {
      "text/plain": [
       "{'query': {'description': 'query to look up on wikipedia',\n",
       "  'title': 'Query',\n",
       "  'type': 'string'}}"
      ]
     },
     "execution_count": 6,
     "metadata": {},
     "output_type": "execute_result"
    }
   ],
   "source": [
    "# to see all args for tools\n",
    "wiki_tool.args"
   ]
  },
  {
   "cell_type": "code",
   "execution_count": null,
   "id": "75b60a5d",
   "metadata": {},
   "outputs": [
    {
     "data": {
      "text/plain": [
       "\"Page: Elon Musk\\nSummary: Elon Reeve Musk  ( EE-lon; born June 28, 1971) is a businessman. He is known for his leadership of Tesla, SpaceX, X (formerly Twitter), and the Department of Government Efficiency (DOGE). Musk has been considered the wealthiest person in the world since 2021; as of May 2025, Forbes estimates his net worth to be US$424.7 billion. \\nBorn to a wealthy family in Pretoria, South Africa, Musk emigrated in 1989 to Canada. He received bachelor's degrees from the University of Pen\""
      ]
     },
     "execution_count": 7,
     "metadata": {},
     "output_type": "execute_result"
    }
   ],
   "source": [
    "# to search the content from wikipedia\n",
    "wiki_tool.run(\n",
    "    {\n",
    "        \"query\":\"elon musk\"\n",
    "    }\n",
    ")"
   ]
  },
  {
   "cell_type": "code",
   "execution_count": 8,
   "id": "a1d44127",
   "metadata": {},
   "outputs": [
    {
     "name": "stderr",
     "output_type": "stream",
     "text": [
      "/opt/miniconda3/envs/agentic_2_base/lib/python3.11/site-packages/wikipedia/wikipedia.py:389: GuessedAtParserWarning: No parser was explicitly specified, so I'm using the best available HTML parser for this system (\"html.parser\"). This usually isn't a problem, but if you run this code on another system, or in a different virtual environment, it may use a different parser and behave differently.\n",
      "\n",
      "The code that caused this warning is on line 389 of the file /opt/miniconda3/envs/agentic_2_base/lib/python3.11/site-packages/wikipedia/wikipedia.py. To get rid of this warning, pass the additional argument 'features=\"html.parser\"' to the BeautifulSoup constructor.\n",
      "\n",
      "  lis = BeautifulSoup(html).find_all('li')\n"
     ]
    },
    {
     "data": {
      "text/plain": [
       "\"Page: Royal Challengers Bengaluru\\nSummary: Royal Challengers Bengaluru, formerly Royal Challengers Bangalore, also known as RCB, are a professional Twenty20 cricket team based in Bengaluru, Karnataka, that competes in the Indian Premier League (IPL). Founded in 2008 by United Spirits, the team's home ground is M. Chinnaswamy Stadium. They won their first title in 2025. The team finished as the runners-up on three occasions: in 2009, 2011, and 2016. They have also qualified for the playoffs in te\""
      ]
     },
     "execution_count": 8,
     "metadata": {},
     "output_type": "execute_result"
    }
   ],
   "source": [
    "wiki_tool.run({\"query\":\"RCB\"})"
   ]
  },
  {
   "cell_type": "markdown",
   "id": "56e8c94f",
   "metadata": {},
   "source": [
    "#### Youtube Tool"
   ]
  },
  {
   "cell_type": "code",
   "execution_count": 2,
   "id": "dacfb074",
   "metadata": {},
   "outputs": [],
   "source": [
    "from langchain_community.tools import YouTubeSearchTool\n",
    "ytool=YouTubeSearchTool()"
   ]
  },
  {
   "cell_type": "code",
   "execution_count": 3,
   "id": "a2431999",
   "metadata": {},
   "outputs": [
    {
     "data": {
      "text/plain": [
       "'youtube_search'"
      ]
     },
     "execution_count": 3,
     "metadata": {},
     "output_type": "execute_result"
    }
   ],
   "source": [
    "ytool.name"
   ]
  },
  {
   "cell_type": "code",
   "execution_count": 4,
   "id": "8939207b",
   "metadata": {},
   "outputs": [
    {
     "data": {
      "text/plain": [
       "'search for youtube videos associated with a person. the input to this tool should be a comma separated list, the first part contains a person name and the second a number that is the maximum number of video results to return aka num_results. the second part is optional'"
      ]
     },
     "execution_count": 4,
     "metadata": {},
     "output_type": "execute_result"
    }
   ],
   "source": [
    "ytool.description"
   ]
  },
  {
   "cell_type": "code",
   "execution_count": 7,
   "id": "cdcaef40",
   "metadata": {},
   "outputs": [
    {
     "data": {
      "text/plain": [
       "\"['https://www.youtube.com/watch?v=TYEqenKrbaM&pp=ygUKa3Jpc2ggbmFpaw%3D%3D', 'https://www.youtube.com/watch?v=JxgmHe2NyeY&pp=ygUKa3Jpc2ggbmFpaw%3D%3D']\""
      ]
     },
     "execution_count": 7,
     "metadata": {},
     "output_type": "execute_result"
    }
   ],
   "source": [
    "ytool.run(\"krish naik\")"
   ]
  },
  {
   "cell_type": "code",
   "execution_count": 1,
   "id": "7570f83f",
   "metadata": {},
   "outputs": [],
   "source": [
    "from langchain_community.tools.tavily_search import TavilySearchResults"
   ]
  },
  {
   "cell_type": "code",
   "execution_count": 4,
   "id": "999f90a9",
   "metadata": {},
   "outputs": [],
   "source": [
    "os.environ[\"TAVILY_API_KEY\"]=os.getenv(\"TAVILY_API_KEY\")"
   ]
  },
  {
   "cell_type": "code",
   "execution_count": 5,
   "id": "635ad56e",
   "metadata": {},
   "outputs": [],
   "source": [
    "tools=TavilySearchResults()"
   ]
  },
  {
   "cell_type": "code",
   "execution_count": 7,
   "id": "fd902653",
   "metadata": {},
   "outputs": [
    {
     "data": {
      "text/plain": [
       "[{'title': 'International News | Latest World News, Videos & Photos - ABC News',\n",
       "  'url': 'https://abcnews.go.com/International',\n",
       "  'content': \"## An uncontrolled wildfire sends a cloud of smoke over Spain's capital\\n\\nA firefighting plane drops water during efforts to extinguish a wildfire near Navalcarnero, on the outskirts of Madrid, Spain, Thursday, July 17, 2025. (A. Pérez Meca/Europa Press via AP)\\n\\n## Low turnout in Togo municipal elections seen as test for the country's president\\n\\nFILE - Togo's President Faure Gnassingbe waves before a working lunch at the Elysee Palace in Paris on April 9, 2021. (AP Photo/Lewis Joly, File) [...] ## As the going gets tough in South Sudan, some artisans offer cheap footwear made from rubber tires\\n\\nShoemaker Emmanuel Achuil works under the shade of a tarpaulin in Wau, South Sudan, June 13, 2025. (AP Photo/Michael Atit)\\n\\n## Japan's PM Ishiba faces uphill battle in upper house election with US tariffs and prices rising\\n\\nSohei Kamiya, leader of the Sanseito party, speaks during an election campaign in Tosu, Saga prefecture, southwestern Japan, on July 12, 2025. (Kyodo News via AP) [...] A view shows the damage at the Holy Family Church which was hit in an Israeli strike in Gaza City, July 18, 2025.\\n\\n## Cambodia continues raids on scam centers, bringing arrests in past 3 weeks over 2,100\\n\\nIn this photo provided by state news service Agence Kampuchea Press, alleged online scammers stand next to their tools collected by authorities at its site in a classroom on the outskirts of Phnom Penh, Cambodia, Friday, July 18, 2025. (AKP via AP)\",\n",
       "  'score': 0.61834323},\n",
       " {'title': 'World News: Latest International Headlines, Video, and Breaking ...',\n",
       "  'url': 'https://www.nbcnews.com/world',\n",
       "  'content': '## New mural in France shows Statue of Liberty covering eyes in swipe at Trump\\n\\nA mural by Dutch artist Judith de Leeuw shows the Statue of Liberty covering her eyes with her hands, in Roubaix, northern France, Monday, July 14, 2025. \\nA mural by Dutch artist Judith de Leeuw shows the Statue of Liberty covering her eyes with her hands, in Roubaix, northern France, Monday, July 14, 2025. \\n\\n## Asia\\n\\n## Asia [...] A man makes his way through a street flooded by torrential rains in Gwangju, South Korea, on July 17, 2025. \\nA man makes his way through a street flooded by torrential rains in Gwangju, South Korea, on July 17, 2025. \\n\\n## War in Ukraine\\n\\n## War in Ukraine\\n\\n## Ukraine to boost domestic arms production in war with Russia, Zelenskyy says\\n\\nImage: Ukrainian servicemen\\nImage: Ukrainian servicemen\\n\\n## LATEST ON NBC NEWS [...] ## Chinese university issues expulsion notice to female student over relationship with a foreigner\\n\\nThe Chinese flag flies outside the Chinese consulate in New York\\nThe Chinese flag flies outside the Chinese consulate in New York\\n\\n## Sports\\n\\n## Sports\\n\\n## Felix Baumgartner, first skydiver to fall faster than the speed of sound, dies in paragliding crash\\n\\nFelix Baumgartner\\nFelix Baumgartner\\n\\n## South Korea\\n\\n## South Korea\\n\\n## At least 4 dead and 1,300 evacuated after heavy rain in South Korea',\n",
       "  'score': 0.5310884},\n",
       " {'title': 'Breaking News, World News and Video from Al Jazeera',\n",
       "  'url': 'https://www.aljazeera.com/',\n",
       "  'content': '### DR Congo, M23 rebels sign deal in Qatar to end fighting in eastern Congo\\n\\nM23 rebels guard a unit of surrendering Congolese military troops.\\n\\n### Gaza students sit exams for first time since war began in October 2023\\n\\nPalestinians inspect the destruction of buildings after Israeli attacks on a school.\\n\\n### Is the international community finally speaking up about Israel?\\n\\n### Protests held across UK supporting banned Palestine Action despite arrests [...] #### Witness says shooting at GFH distribution site ‘meant to kill’\\n\\n#### Death toll in Gaza rises\\n\\n#### EU welcomes Israel-Syria ceasefire\\n\\n#### WATCH: Infectious diseases spreading due to lack of clean water, food in Gaza\\n\\nBedouin fighters ride on a vehicle along a street.\\n\\n### Syria declares new Suwayda ceasefire, deploys forces to ‘restore security’\\n\\n### Syria declares new Suwayda ceasefire, deploys forces to ‘restore security’\\n\\nBedouin fighters ride on a vehicle along a street.',\n",
       "  'score': 0.48250288},\n",
       " {'title': 'World | Latest News & Updates - BBC',\n",
       "  'url': 'https://www.bbc.com/news/world',\n",
       "  'content': '## Court orders Bolsonaro to wear ankle tag and puts him under curfew\\n\\nA court in Brazil also bars the ex-president from using social media and puts him under 24-hour surveillance.\\n\\n## El Salvador and US negotiate prisoner swap with Venezuela\\n\\nSome 250 Venezuelans deported from the US to El Salvador were exchanged for 10 Americans held by Caracas.\\n\\nA man and a woman embrace on a big screen\\n\\n## US tech CEO suspended after Coldplay concert embrace goes viral [...] ## \\'The village will die\\' - Italy looks for answers to decline in number of babies\\n\\nThe government wants to encourage women to have babies but Italians say they need greater help.\\n\\nRupert Murdoch, who wears dark sunglasses and a check suit, smiles as he walks with Donald Trump, who wears a suit and a MAGA cap\\n\\n## Trump sues Murdoch and Wall Street Journal for $10bn over Epstein article\\n\\nThe lawsuit is over a story claiming the president wrote a \"bawdy\" personal note to Jeffrey Epstein in 2003. [...] ## Syrian presidency announces ceasefire after deadly sectarian clashes in south\\n\\nThe move comes after days of clashes between Bedouin and Druze fighters in Suweida that have reportedly left hundreds dead.\\n\\nA police officer directing traffic outside the site of the blast. \\n\\n## Three killed in explosion at Los Angeles police training facility\\n\\nFederal agents are investigating, but authorities describe it as \"an isolated incident\" with no further threat to the public.',\n",
       "  'score': 0.47124818},\n",
       " {'title': 'Latest news from around the world',\n",
       "  'url': 'https://www.theguardian.com/world',\n",
       "  'content': 'People queueing to register for aid at an internally displaced persons’ camp in North Kordofan state\\n\\n### Sudanese paramilitary RSF accused of killing almost 300 people in village raids\\n\\nPaul Voulet and Julien Chanoine, who led the Mission Afrique Centrale in 1899.\\n\\n### France signals willingness to discuss reparations for colonial massacres in Niger\\n\\n## Americas\\n\\na plane on a tarmac\\n\\n### Caracas releases 10 Americans as Venezuelans freed from El Salvador jail [...] Police on the streets of Port of Spain.\\n\\n### Trinidad and Tobago declares second state of emergency, citing gang threat\\n\\nJair Bolsonaro at a press conference on Thursday\\n\\n### Bolsonaro ordered to wear ankle tag over fears he may abscond as coup trial nears end\\n\\nGrizzly Bears in Knight Inlet, British Columbia.<br>E46D0M Grizzly Bears in Knight Inlet, British Columbia.\\n\\n### Shooting of bear that swam to Canadian island frustrates First Nations\\n\\nFelled tree trunks and clearing in a forest. [...] #### Syrian presidency declares ‘comprehensive’ ceasefire in Sweida after deadly clashes\\n\\n#### Dozens reported dead and more than 100 wounded after Israeli attacks on Gaza aid centres – as it happened\\n\\n#### Killing of young siblings at Gaza water point shows seeking life’s essentials now a deadly peril\\n\\n#### Death toll grows from torrential rains in South Korea with thousands unable to return home\\n\\n#### ‘We painted, sang songs’: the Russian woman found living in Indian cave with daughters',\n",
       "  'score': 0.46453777}]"
      ]
     },
     "execution_count": 7,
     "metadata": {},
     "output_type": "execute_result"
    }
   ],
   "source": [
    "tools.invoke(\"show latest international news\")"
   ]
  },
  {
   "cell_type": "markdown",
   "id": "be99dd8f",
   "metadata": {},
   "source": [
    "## Custom Tool"
   ]
  },
  {
   "cell_type": "code",
   "execution_count": 9,
   "id": "47918c64",
   "metadata": {},
   "outputs": [],
   "source": [
    "def multiply(a:int, b:int):\n",
    "    return a*b\n"
   ]
  },
  {
   "cell_type": "code",
   "execution_count": 10,
   "id": "e86ce25e",
   "metadata": {},
   "outputs": [],
   "source": [
    "# to use function as a tool, you must use langchain tool library\n",
    "from langchain.agents import tool"
   ]
  },
  {
   "cell_type": "code",
   "execution_count": 11,
   "id": "71597c4a",
   "metadata": {},
   "outputs": [],
   "source": [
    "@tool\n",
    "def multiply(a:int, b:int):\n",
    "    '''This tool will multiply 2 integer numbers'''\n",
    "    return a*b"
   ]
  },
  {
   "cell_type": "code",
   "execution_count": 15,
   "id": "7ff930dc",
   "metadata": {},
   "outputs": [
    {
     "data": {
      "text/plain": [
       "200"
      ]
     },
     "execution_count": 15,
     "metadata": {},
     "output_type": "execute_result"
    }
   ],
   "source": [
    "multiply.invoke({\"a\":10,\"b\":20})"
   ]
  },
  {
   "cell_type": "code",
   "execution_count": 16,
   "id": "506e57da",
   "metadata": {},
   "outputs": [
    {
     "data": {
      "text/plain": [
       "'multiply'"
      ]
     },
     "execution_count": 16,
     "metadata": {},
     "output_type": "execute_result"
    }
   ],
   "source": [
    "multiply.name"
   ]
  },
  {
   "cell_type": "code",
   "execution_count": 17,
   "id": "bbb72e5e",
   "metadata": {},
   "outputs": [
    {
     "data": {
      "text/plain": [
       "'This tool will multiply 2 integer numbers'"
      ]
     },
     "execution_count": 17,
     "metadata": {},
     "output_type": "execute_result"
    }
   ],
   "source": [
    "multiply.description"
   ]
  },
  {
   "cell_type": "code",
   "execution_count": 18,
   "id": "4699409c",
   "metadata": {},
   "outputs": [
    {
     "data": {
      "text/plain": [
       "{'a': {'title': 'A', 'type': 'integer'},\n",
       " 'b': {'title': 'B', 'type': 'integer'}}"
      ]
     },
     "execution_count": 18,
     "metadata": {},
     "output_type": "execute_result"
    }
   ],
   "source": [
    "multiply.args"
   ]
  },
  {
   "cell_type": "code",
   "execution_count": 19,
   "id": "9b462377",
   "metadata": {},
   "outputs": [],
   "source": [
    "## Here is a function which will work as a tool\n",
    "@tool # to tell langchain that it's a custom tool\n",
    "def word_length(word:str)->int:\n",
    "    '''It will retrun the length of word''' # docstring is important to run a tool\n",
    "    return len(word)"
   ]
  },
  {
   "cell_type": "code",
   "execution_count": 20,
   "id": "4cdb9a25",
   "metadata": {},
   "outputs": [
    {
     "data": {
      "text/plain": [
       "10"
      ]
     },
     "execution_count": 20,
     "metadata": {},
     "output_type": "execute_result"
    }
   ],
   "source": [
    "word_length.invoke(\"anuj kumar\")"
   ]
  }
 ],
 "metadata": {
  "kernelspec": {
   "display_name": "agentic_2_base",
   "language": "python",
   "name": "python3"
  },
  "language_info": {
   "codemirror_mode": {
    "name": "ipython",
    "version": 3
   },
   "file_extension": ".py",
   "mimetype": "text/x-python",
   "name": "python",
   "nbconvert_exporter": "python",
   "pygments_lexer": "ipython3",
   "version": "3.11.13"
  }
 },
 "nbformat": 4,
 "nbformat_minor": 5
}
